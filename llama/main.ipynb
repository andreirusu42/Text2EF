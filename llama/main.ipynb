{
 "cells": [
  {
   "cell_type": "code",
   "execution_count": null,
   "metadata": {},
   "outputs": [],
   "source": [
    "!pip3 install numpy==1.26.4\n",
    "!pip3 install torch==2.3.1 torchvision torchaudio"
   ]
  },
  {
   "cell_type": "code",
   "execution_count": null,
   "metadata": {},
   "outputs": [],
   "source": [
    "!pip3 install --upgrade jupyter\n",
    "!pip3 install --upgrade ipywidgets"
   ]
  },
  {
   "cell_type": "code",
   "execution_count": null,
   "metadata": {},
   "outputs": [],
   "source": [
    "!pip3 install \"unsloth[colab-new] @ git+https://github.com/unslothai/unsloth.git\"\n",
    "!pip3 install --no-deps \"xformers<0.0.27\" \"trl<0.9.0\" peft accelerate bitsandbytes"
   ]
  },
  {
   "cell_type": "code",
   "execution_count": null,
   "metadata": {},
   "outputs": [],
   "source": [
    "from unsloth import FastLanguageModel\n",
    "\n",
    "max_seq_length = 2048 # Choose any! We auto support RoPE Scaling internally!\n",
    "dtype = None # None for auto detection. Float16 for Tesla T4, V100, Bfloat16 for Ampere+\n",
    "load_in_4bit = True # Use 4bit quantization to reduce memory usage. Can be False.\n",
    "\n",
    "model, tokenizer = FastLanguageModel.from_pretrained(\n",
    "    model_name = \"unsloth/Meta-Llama-3.1-8B\",\n",
    "    max_seq_length = max_seq_length,\n",
    "    dtype = dtype,\n",
    "    load_in_4bit = load_in_4bit,\n",
    "    # token = \"hf_...\", # use one if using gated models like meta-llama/Llama-2-7b-hf\n",
    ")\n",
    "\n",
    "# https://github.com/unslothai/unsloth/issues/416\n",
    "tokenizer.add_special_tokens({\"pad_token\": \"<|reserved_special_token_0|>\"})\n",
    "model.config.pad_token_id = tokenizer.pad_token_id # updating model config\n",
    "tokenizer.padding_side = 'right' # padding to right (otherwise SFTTrainer shows warning)"
   ]
  },
  {
   "cell_type": "code",
   "execution_count": null,
   "metadata": {},
   "outputs": [],
   "source": [
    "model = FastLanguageModel.get_peft_model(\n",
    "    model,\n",
    "    r = 16, # Choose any number > 0 ! Suggested 8, 16, 32, 64, 128\n",
    "    target_modules = [\"q_proj\", \"k_proj\", \"v_proj\", \"o_proj\",\n",
    "                      \"gate_proj\", \"up_proj\", \"down_proj\",],\n",
    "    lora_alpha = 16,\n",
    "    lora_dropout = 0, # Supports any, but = 0 is optimized\n",
    "    bias = \"none\",    # Supports any, but = \"none\" is optimized\n",
    "    # [NEW] \"unsloth\" uses 30% less VRAM, fits 2x larger batch sizes!\n",
    "    use_gradient_checkpointing = \"unsloth\", # True or \"unsloth\" for very long context\n",
    "    random_state = 3407,\n",
    "    use_rslora = False,  # We support rank stabilized LoRA\n",
    "    loftq_config = None, # And LoftQ\n",
    ")"
   ]
  },
  {
   "cell_type": "code",
   "execution_count": null,
   "metadata": {},
   "outputs": [],
   "source": [
    "from datasets import load_dataset, Split\n",
    "\n",
    "def format_dataset(examples):\n",
    "    texts = []\n",
    "    for item in examples[\"prompt\"]:\n",
    "        text = item + tokenizer.eos_token\n",
    "        texts.append(text)\n",
    "    return { \"text\" : texts, }\n",
    "\n",
    "\n",
    "train_dataset = load_dataset(\"andreirusu32/sql2ef\", split=Split.TRAIN)\n",
    "train_dataset = train_dataset.map(format_dataset, batched = True)\n",
    "\n",
    "test_dataset = load_dataset(\"andreirusu32/sql2ef\", split=Split.TEST)"
   ]
  },
  {
   "cell_type": "code",
   "execution_count": null,
   "metadata": {},
   "outputs": [],
   "source": [
    "from trl import SFTTrainer\n",
    "from transformers import TrainingArguments\n",
    "from unsloth import is_bfloat16_supported\n",
    "\n",
    "\n",
    "trainer = SFTTrainer(\n",
    "    model = model,\n",
    "    tokenizer = tokenizer,\n",
    "    train_dataset = train_dataset,\n",
    "    dataset_text_field = \"text\",\n",
    "    max_seq_length = max_seq_length,\n",
    "    dataset_num_proc = 2,\n",
    "    packing = False, # Can make training 5x faster for short sequences.\n",
    "    args = TrainingArguments(\n",
    "        per_device_train_batch_size = 2,\n",
    "        gradient_accumulation_steps = 4,\n",
    "        warmup_steps = 5,\n",
    "        # num_train_epochs = 1, # Set this for 1 full training run.\n",
    "        max_steps = 60,\n",
    "        learning_rate = 2e-4,\n",
    "        fp16 = not is_bfloat16_supported(),\n",
    "        bf16 = is_bfloat16_supported(),\n",
    "        logging_steps = 1,\n",
    "        optim = \"adamw_8bit\",\n",
    "        weight_decay = 0.01,\n",
    "        lr_scheduler_type = \"linear\",\n",
    "        seed = 3407,\n",
    "        output_dir = \"outputs\",\n",
    "    ),\n",
    ")"
   ]
  },
  {
   "cell_type": "code",
   "execution_count": null,
   "metadata": {},
   "outputs": [],
   "source": [
    "trainer_stats = trainer.train()"
   ]
  },
  {
   "cell_type": "code",
   "execution_count": null,
   "metadata": {},
   "outputs": [],
   "source": [
    "print(test_dataset[0])"
   ]
  },
  {
   "cell_type": "code",
   "execution_count": null,
   "metadata": {},
   "outputs": [],
   "source": [
    "import json\n",
    "import os\n",
    "\n",
    "class JsonFileManager:\n",
    "    def __init__(self, filepath):\n",
    "        self.filepath = filepath\n",
    "        self.data = self._load_json()\n",
    "\n",
    "    def does_item_exist(self, item_id):\n",
    "        for item in self.data:\n",
    "            if item['id'] == item_id:\n",
    "                return True\n",
    "        return False\n",
    "\n",
    "    def _load_json(self):\n",
    "        if os.path.exists(self.filepath):\n",
    "            with open(self.filepath, 'r') as file:\n",
    "                return json.load(file)\n",
    "        return []\n",
    "\n",
    "    def _save_json(self):\n",
    "        with open(self.filepath, 'w') as file:\n",
    "            json.dump(self.data, file, indent=4)\n",
    "\n",
    "\n",
    "\n",
    "    def append_or_update(self, item):\n",
    "        item_id = item.get('id')\n",
    "        if item_id is None:\n",
    "            raise ValueError(\"Item must have an 'id' field\")\n",
    "\n",
    "        for idx, existing_item in enumerate(self.data):\n",
    "            if existing_item['id'] == item_id:\n",
    "                self.data[idx] = item\n",
    "                self._save_json()\n",
    "                return\n",
    "\n",
    "        self.data.append(item)\n",
    "        self._save_json()\n",
    "\n",
    "test_results_json_manager = JsonFileManager(\"test_results.json\")"
   ]
  },
  {
   "cell_type": "code",
   "execution_count": null,
   "metadata": {},
   "outputs": [],
   "source": [
    "import torch\n",
    "\n",
    "from tqdm import tqdm\n",
    "\n",
    "FastLanguageModel.for_inference(model) # Enable native 2x faster inference\n",
    "for item in tqdm(test_dataset):\n",
    "    if test_results_json_manager.does_item_exist(item[\"query_id\"]):\n",
    "        print(f\"Skipping query {item['query_id']}\")\n",
    "        continue\n",
    "\n",
    "    prompt = item['prompt']\n",
    "\n",
    "    inputs = tokenizer(\n",
    "        [prompt],\n",
    "        return_tensors = \"pt\",\n",
    "    ).to(\"cuda\")\n",
    "\n",
    "    outputs = model.generate(\n",
    "        **inputs,\n",
    "        max_new_tokens = 256,\n",
    "        use_cache = True,\n",
    "    )\n",
    "\n",
    "    decoded_output = tokenizer.batch_decode(outputs)[0]\n",
    "\n",
    "    output_string = \"**Output:**\"\n",
    "    starts_at = decoded_output.rfind(output_string) + len(output_string)\n",
    "\n",
    "    completion = decoded_output[starts_at:].strip()\n",
    "\n",
    "\n",
    "   # We could have looked for eos, but sometimes it just adds a description to the query, or other text,\n",
    "    # (even though instructed not to) so we can look for \";\".\n",
    "    # eos_pos = completion.find(EOS_TOKEN)\n",
    "    # if eos_pos >= 0:\n",
    "    #     completion = completion[:eos_pos]\n",
    "\n",
    "    eos_pos = completion.find(\";\")\n",
    "    if eos_pos >= 0:\n",
    "        completion = completion[:eos_pos + 1]\n",
    " \n",
    "\n",
    "    test_results_json_manager.append_or_update({\n",
    "        \"id\": item[\"query_id\"],\n",
    "        \"linq\": completion\n",
    "    })\n",
    "\n",
    "    del inputs, outputs, decoded_output\n",
    "    torch.cuda.empty_cache()\n"
   ]
  }
 ],
 "metadata": {
  "kernelspec": {
   "display_name": ".venv",
   "language": "python",
   "name": "python3"
  },
  "language_info": {
   "codemirror_mode": {
    "name": "ipython",
    "version": 3
   },
   "file_extension": ".py",
   "mimetype": "text/x-python",
   "name": "python",
   "nbconvert_exporter": "python",
   "pygments_lexer": "ipython3",
   "version": "3.10.11"
  }
 },
 "nbformat": 4,
 "nbformat_minor": 2
}
